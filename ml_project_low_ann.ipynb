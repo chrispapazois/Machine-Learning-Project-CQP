{
 "cells": [
  {
   "cell_type": "markdown",
   "id": "7bfa6e82-735c-4aa9-8278-13bf9b79fc0e",
   "metadata": {},
   "source": [
    "# ANN-Classification "
   ]
  },
  {
   "cell_type": "markdown",
   "id": "4ff2271c-e1d5-43d5-a4f3-e860cea31cb7",
   "metadata": {},
   "source": [
    "## Importing the Libraries and the Data"
   ]
  },
  {
   "cell_type": "code",
   "execution_count": 40,
   "id": "817572f7-dfc0-4f10-89cc-e0410465a7a1",
   "metadata": {},
   "outputs": [],
   "source": [
    "import numpy as np\n",
    "import pandas as pd\n",
    "import tensorflow as tf\n",
    "\n",
    "from sklearn.model_selection import train_test_split\n",
    "from sklearn.preprocessing import StandardScaler\n",
    "\n",
    "from keras.models import Sequential\n",
    "from keras.layers import Dense, Input\n",
    "\n",
    "from sklearn.metrics import confusion_matrix, accuracy_score"
   ]
  },
  {
   "cell_type": "markdown",
   "id": "dbb522a9-d79a-41c9-b5ad-536488c38f48",
   "metadata": {},
   "source": [
    "## Data Preprocessing"
   ]
  },
  {
   "cell_type": "code",
   "execution_count": 43,
   "id": "57f36344-1118-48e1-96ca-addeaa8d814a",
   "metadata": {},
   "outputs": [
    {
     "name": "stdout",
     "output_type": "stream",
     "text": [
      "Fixed value: 0.0 (type: <class 'float'>)\n"
     ]
    }
   ],
   "source": [
    "df = pd.read_csv('HIGGS_8K.csv',header=None)\n",
    "df.head()\n",
    "# as in previous methods we replace the problematic value\n",
    "df.iloc[:, 17] = pd.to_numeric(df.iloc[:, 17], errors='coerce').fillna(0) \n",
    "print(f'Fixed value: {df.iloc[0, 17]} (type: {type(df.iloc[0, 17])})')"
   ]
  },
  {
   "cell_type": "code",
   "execution_count": 45,
   "id": "fc181de4-30f4-4c23-abbe-d8d5797cf52c",
   "metadata": {},
   "outputs": [
    {
     "name": "stdout",
     "output_type": "stream",
     "text": [
      "(8001, 29)\n"
     ]
    }
   ],
   "source": [
    "print(df.shape)"
   ]
  },
  {
   "cell_type": "code",
   "execution_count": 47,
   "id": "07ffe533-cc1e-4b2f-9be6-6cec334ad544",
   "metadata": {},
   "outputs": [],
   "source": [
    "classification=df.iloc[:,0]\n",
    "low_level=df.iloc[:,1:22]\n",
    "high_level=df.iloc[:,22:]"
   ]
  },
  {
   "cell_type": "markdown",
   "id": "0d7c5cfa-6028-4e0f-a3ff-75709bb41aa5",
   "metadata": {},
   "source": [
    "## Low Level"
   ]
  },
  {
   "cell_type": "code",
   "execution_count": 71,
   "id": "bdd47846-efd0-42a3-acb0-dca5390a18f8",
   "metadata": {},
   "outputs": [
    {
     "data": {
      "text/html": [
       "<pre style=\"white-space:pre;overflow-x:auto;line-height:normal;font-family:Menlo,'DejaVu Sans Mono',consolas,'Courier New',monospace\"><span style=\"font-weight: bold\">Model: \"sequential_7\"</span>\n",
       "</pre>\n"
      ],
      "text/plain": [
       "\u001b[1mModel: \"sequential_7\"\u001b[0m\n"
      ]
     },
     "metadata": {},
     "output_type": "display_data"
    },
    {
     "data": {
      "text/html": [
       "<pre style=\"white-space:pre;overflow-x:auto;line-height:normal;font-family:Menlo,'DejaVu Sans Mono',consolas,'Courier New',monospace\">┏━━━━━━━━━━━━━━━━━━━━━━━━━━━━━━━━━┳━━━━━━━━━━━━━━━━━━━━━━━━┳━━━━━━━━━━━━━━━┓\n",
       "┃<span style=\"font-weight: bold\"> Layer (type)                    </span>┃<span style=\"font-weight: bold\"> Output Shape           </span>┃<span style=\"font-weight: bold\">       Param # </span>┃\n",
       "┡━━━━━━━━━━━━━━━━━━━━━━━━━━━━━━━━━╇━━━━━━━━━━━━━━━━━━━━━━━━╇━━━━━━━━━━━━━━━┩\n",
       "│ dense_23 (<span style=\"color: #0087ff; text-decoration-color: #0087ff\">Dense</span>)                │ (<span style=\"color: #00d7ff; text-decoration-color: #00d7ff\">None</span>, <span style=\"color: #00af00; text-decoration-color: #00af00\">12</span>)             │           <span style=\"color: #00af00; text-decoration-color: #00af00\">264</span> │\n",
       "├─────────────────────────────────┼────────────────────────┼───────────────┤\n",
       "│ dense_24 (<span style=\"color: #0087ff; text-decoration-color: #0087ff\">Dense</span>)                │ (<span style=\"color: #00d7ff; text-decoration-color: #00d7ff\">None</span>, <span style=\"color: #00af00; text-decoration-color: #00af00\">8</span>)              │           <span style=\"color: #00af00; text-decoration-color: #00af00\">104</span> │\n",
       "├─────────────────────────────────┼────────────────────────┼───────────────┤\n",
       "│ dense_25 (<span style=\"color: #0087ff; text-decoration-color: #0087ff\">Dense</span>)                │ (<span style=\"color: #00d7ff; text-decoration-color: #00d7ff\">None</span>, <span style=\"color: #00af00; text-decoration-color: #00af00\">1</span>)              │             <span style=\"color: #00af00; text-decoration-color: #00af00\">9</span> │\n",
       "└─────────────────────────────────┴────────────────────────┴───────────────┘\n",
       "</pre>\n"
      ],
      "text/plain": [
       "┏━━━━━━━━━━━━━━━━━━━━━━━━━━━━━━━━━┳━━━━━━━━━━━━━━━━━━━━━━━━┳━━━━━━━━━━━━━━━┓\n",
       "┃\u001b[1m \u001b[0m\u001b[1mLayer (type)                   \u001b[0m\u001b[1m \u001b[0m┃\u001b[1m \u001b[0m\u001b[1mOutput Shape          \u001b[0m\u001b[1m \u001b[0m┃\u001b[1m \u001b[0m\u001b[1m      Param #\u001b[0m\u001b[1m \u001b[0m┃\n",
       "┡━━━━━━━━━━━━━━━━━━━━━━━━━━━━━━━━━╇━━━━━━━━━━━━━━━━━━━━━━━━╇━━━━━━━━━━━━━━━┩\n",
       "│ dense_23 (\u001b[38;5;33mDense\u001b[0m)                │ (\u001b[38;5;45mNone\u001b[0m, \u001b[38;5;34m12\u001b[0m)             │           \u001b[38;5;34m264\u001b[0m │\n",
       "├─────────────────────────────────┼────────────────────────┼───────────────┤\n",
       "│ dense_24 (\u001b[38;5;33mDense\u001b[0m)                │ (\u001b[38;5;45mNone\u001b[0m, \u001b[38;5;34m8\u001b[0m)              │           \u001b[38;5;34m104\u001b[0m │\n",
       "├─────────────────────────────────┼────────────────────────┼───────────────┤\n",
       "│ dense_25 (\u001b[38;5;33mDense\u001b[0m)                │ (\u001b[38;5;45mNone\u001b[0m, \u001b[38;5;34m1\u001b[0m)              │             \u001b[38;5;34m9\u001b[0m │\n",
       "└─────────────────────────────────┴────────────────────────┴───────────────┘\n"
      ]
     },
     "metadata": {},
     "output_type": "display_data"
    },
    {
     "data": {
      "text/html": [
       "<pre style=\"white-space:pre;overflow-x:auto;line-height:normal;font-family:Menlo,'DejaVu Sans Mono',consolas,'Courier New',monospace\"><span style=\"font-weight: bold\"> Total params: </span><span style=\"color: #00af00; text-decoration-color: #00af00\">377</span> (1.47 KB)\n",
       "</pre>\n"
      ],
      "text/plain": [
       "\u001b[1m Total params: \u001b[0m\u001b[38;5;34m377\u001b[0m (1.47 KB)\n"
      ]
     },
     "metadata": {},
     "output_type": "display_data"
    },
    {
     "data": {
      "text/html": [
       "<pre style=\"white-space:pre;overflow-x:auto;line-height:normal;font-family:Menlo,'DejaVu Sans Mono',consolas,'Courier New',monospace\"><span style=\"font-weight: bold\"> Trainable params: </span><span style=\"color: #00af00; text-decoration-color: #00af00\">377</span> (1.47 KB)\n",
       "</pre>\n"
      ],
      "text/plain": [
       "\u001b[1m Trainable params: \u001b[0m\u001b[38;5;34m377\u001b[0m (1.47 KB)\n"
      ]
     },
     "metadata": {},
     "output_type": "display_data"
    },
    {
     "data": {
      "text/html": [
       "<pre style=\"white-space:pre;overflow-x:auto;line-height:normal;font-family:Menlo,'DejaVu Sans Mono',consolas,'Courier New',monospace\"><span style=\"font-weight: bold\"> Non-trainable params: </span><span style=\"color: #00af00; text-decoration-color: #00af00\">0</span> (0.00 B)\n",
       "</pre>\n"
      ],
      "text/plain": [
       "\u001b[1m Non-trainable params: \u001b[0m\u001b[38;5;34m0\u001b[0m (0.00 B)\n"
      ]
     },
     "metadata": {},
     "output_type": "display_data"
    }
   ],
   "source": [
    "# we split the dataset\n",
    "low_level_train, low_level_test, classification_train, classification_test = train_test_split(low_level, classification, test_size=0.20, random_state=42)\n",
    "\n",
    "# Feature scaling\n",
    "scaler = StandardScaler()\n",
    "low_level_train_scaled = scaler.fit_transform(low_level_train)\n",
    "low_level_test_scaled =scaler.transform(low_level_test)\n",
    "\n",
    "#building the ann\n",
    "ann = tf.keras.models.Sequential()\n",
    "ann.add(Input(shape=(21,)))  # The low level has 20 columns \n",
    "ann.add(tf.keras.layers.Dense(12, activation='relu')) #first layer\n",
    "ann.add(tf.keras.layers.Dense(8, activation='relu')) #second hidden layer \n",
    "\n",
    "ann.add(tf.keras.layers.Dense(units=1, activation='sigmoid')) #output layer\n",
    "\n",
    "# Training the ANN\n",
    "ann.compile(optimizer = 'adam', loss = 'binary_crossentropy', metrics = ['accuracy'])\n",
    "ann.summary()"
   ]
  },
  {
   "cell_type": "code",
   "execution_count": 134,
   "id": "d84e918e-7342-4060-add3-b8eb0df1f62c",
   "metadata": {},
   "outputs": [
    {
     "name": "stdout",
     "output_type": "stream",
     "text": [
      "Epoch 1/200\n",
      "\u001b[1m1067/1067\u001b[0m \u001b[32m━━━━━━━━━━━━━━━━━━━━\u001b[0m\u001b[37m\u001b[0m \u001b[1m0s\u001b[0m 440us/step - accuracy: 0.6752 - loss: 0.5912\n",
      "Epoch 2/200\n",
      "\u001b[1m1067/1067\u001b[0m \u001b[32m━━━━━━━━━━━━━━━━━━━━\u001b[0m\u001b[37m\u001b[0m \u001b[1m0s\u001b[0m 428us/step - accuracy: 0.6746 - loss: 0.5848\n",
      "Epoch 3/200\n",
      "\u001b[1m1067/1067\u001b[0m \u001b[32m━━━━━━━━━━━━━━━━━━━━\u001b[0m\u001b[37m\u001b[0m \u001b[1m0s\u001b[0m 419us/step - accuracy: 0.6709 - loss: 0.5912\n",
      "Epoch 4/200\n",
      "\u001b[1m1067/1067\u001b[0m \u001b[32m━━━━━━━━━━━━━━━━━━━━\u001b[0m\u001b[37m\u001b[0m \u001b[1m0s\u001b[0m 418us/step - accuracy: 0.6923 - loss: 0.5786\n",
      "Epoch 5/200\n",
      "\u001b[1m1067/1067\u001b[0m \u001b[32m━━━━━━━━━━━━━━━━━━━━\u001b[0m\u001b[37m\u001b[0m \u001b[1m0s\u001b[0m 415us/step - accuracy: 0.6684 - loss: 0.5886\n",
      "Epoch 6/200\n",
      "\u001b[1m1067/1067\u001b[0m \u001b[32m━━━━━━━━━━━━━━━━━━━━\u001b[0m\u001b[37m\u001b[0m \u001b[1m1s\u001b[0m 514us/step - accuracy: 0.6749 - loss: 0.5844\n",
      "Epoch 7/200\n",
      "\u001b[1m1067/1067\u001b[0m \u001b[32m━━━━━━━━━━━━━━━━━━━━\u001b[0m\u001b[37m\u001b[0m \u001b[1m0s\u001b[0m 417us/step - accuracy: 0.6748 - loss: 0.5873\n",
      "Epoch 8/200\n",
      "\u001b[1m1067/1067\u001b[0m \u001b[32m━━━━━━━━━━━━━━━━━━━━\u001b[0m\u001b[37m\u001b[0m \u001b[1m0s\u001b[0m 417us/step - accuracy: 0.6756 - loss: 0.5902\n",
      "Epoch 9/200\n",
      "\u001b[1m1067/1067\u001b[0m \u001b[32m━━━━━━━━━━━━━━━━━━━━\u001b[0m\u001b[37m\u001b[0m \u001b[1m0s\u001b[0m 421us/step - accuracy: 0.6688 - loss: 0.5926\n",
      "Epoch 10/200\n",
      "\u001b[1m1067/1067\u001b[0m \u001b[32m━━━━━━━━━━━━━━━━━━━━\u001b[0m\u001b[37m\u001b[0m \u001b[1m0s\u001b[0m 416us/step - accuracy: 0.6688 - loss: 0.5912\n",
      "Epoch 11/200\n",
      "\u001b[1m1067/1067\u001b[0m \u001b[32m━━━━━━━━━━━━━━━━━━━━\u001b[0m\u001b[37m\u001b[0m \u001b[1m0s\u001b[0m 417us/step - accuracy: 0.6815 - loss: 0.5810\n",
      "Epoch 12/200\n",
      "\u001b[1m1067/1067\u001b[0m \u001b[32m━━━━━━━━━━━━━━━━━━━━\u001b[0m\u001b[37m\u001b[0m \u001b[1m0s\u001b[0m 418us/step - accuracy: 0.6749 - loss: 0.5869\n",
      "Epoch 13/200\n",
      "\u001b[1m1067/1067\u001b[0m \u001b[32m━━━━━━━━━━━━━━━━━━━━\u001b[0m\u001b[37m\u001b[0m \u001b[1m0s\u001b[0m 422us/step - accuracy: 0.6767 - loss: 0.5806\n",
      "Epoch 14/200\n",
      "\u001b[1m1067/1067\u001b[0m \u001b[32m━━━━━━━━━━━━━━━━━━━━\u001b[0m\u001b[37m\u001b[0m \u001b[1m0s\u001b[0m 421us/step - accuracy: 0.6837 - loss: 0.5849\n",
      "Epoch 15/200\n",
      "\u001b[1m1067/1067\u001b[0m \u001b[32m━━━━━━━━━━━━━━━━━━━━\u001b[0m\u001b[37m\u001b[0m \u001b[1m0s\u001b[0m 421us/step - accuracy: 0.6735 - loss: 0.5851\n",
      "Epoch 16/200\n",
      "\u001b[1m1067/1067\u001b[0m \u001b[32m━━━━━━━━━━━━━━━━━━━━\u001b[0m\u001b[37m\u001b[0m \u001b[1m0s\u001b[0m 421us/step - accuracy: 0.6710 - loss: 0.5804\n",
      "Epoch 17/200\n",
      "\u001b[1m1067/1067\u001b[0m \u001b[32m━━━━━━━━━━━━━━━━━━━━\u001b[0m\u001b[37m\u001b[0m \u001b[1m0s\u001b[0m 420us/step - accuracy: 0.6794 - loss: 0.5831\n",
      "Epoch 18/200\n",
      "\u001b[1m1067/1067\u001b[0m \u001b[32m━━━━━━━━━━━━━━━━━━━━\u001b[0m\u001b[37m\u001b[0m \u001b[1m0s\u001b[0m 422us/step - accuracy: 0.6797 - loss: 0.5820\n",
      "Epoch 19/200\n",
      "\u001b[1m1067/1067\u001b[0m \u001b[32m━━━━━━━━━━━━━━━━━━━━\u001b[0m\u001b[37m\u001b[0m \u001b[1m1s\u001b[0m 495us/step - accuracy: 0.6726 - loss: 0.5835\n",
      "Epoch 20/200\n",
      "\u001b[1m1067/1067\u001b[0m \u001b[32m━━━━━━━━━━━━━━━━━━━━\u001b[0m\u001b[37m\u001b[0m \u001b[1m0s\u001b[0m 420us/step - accuracy: 0.6775 - loss: 0.5864\n",
      "Epoch 21/200\n",
      "\u001b[1m1067/1067\u001b[0m \u001b[32m━━━━━━━━━━━━━━━━━━━━\u001b[0m\u001b[37m\u001b[0m \u001b[1m0s\u001b[0m 420us/step - accuracy: 0.6843 - loss: 0.5790\n",
      "Epoch 22/200\n",
      "\u001b[1m1067/1067\u001b[0m \u001b[32m━━━━━━━━━━━━━━━━━━━━\u001b[0m\u001b[37m\u001b[0m \u001b[1m0s\u001b[0m 430us/step - accuracy: 0.6751 - loss: 0.5909\n",
      "Epoch 23/200\n",
      "\u001b[1m1067/1067\u001b[0m \u001b[32m━━━━━━━━━━━━━━━━━━━━\u001b[0m\u001b[37m\u001b[0m \u001b[1m1s\u001b[0m 499us/step - accuracy: 0.6688 - loss: 0.5882\n",
      "Epoch 24/200\n",
      "\u001b[1m1067/1067\u001b[0m \u001b[32m━━━━━━━━━━━━━━━━━━━━\u001b[0m\u001b[37m\u001b[0m \u001b[1m1s\u001b[0m 518us/step - accuracy: 0.6777 - loss: 0.5798\n",
      "Epoch 25/200\n",
      "\u001b[1m1067/1067\u001b[0m \u001b[32m━━━━━━━━━━━━━━━━━━━━\u001b[0m\u001b[37m\u001b[0m \u001b[1m1s\u001b[0m 497us/step - accuracy: 0.6731 - loss: 0.5865\n",
      "Epoch 26/200\n",
      "\u001b[1m1067/1067\u001b[0m \u001b[32m━━━━━━━━━━━━━━━━━━━━\u001b[0m\u001b[37m\u001b[0m \u001b[1m1s\u001b[0m 523us/step - accuracy: 0.6781 - loss: 0.5796\n",
      "Epoch 27/200\n",
      "\u001b[1m1067/1067\u001b[0m \u001b[32m━━━━━━━━━━━━━━━━━━━━\u001b[0m\u001b[37m\u001b[0m \u001b[1m1s\u001b[0m 657us/step - accuracy: 0.6692 - loss: 0.5863\n",
      "Epoch 28/200\n",
      "\u001b[1m1067/1067\u001b[0m \u001b[32m━━━━━━━━━━━━━━━━━━━━\u001b[0m\u001b[37m\u001b[0m \u001b[1m1s\u001b[0m 788us/step - accuracy: 0.6882 - loss: 0.5828\n",
      "Epoch 29/200\n",
      "\u001b[1m1067/1067\u001b[0m \u001b[32m━━━━━━━━━━━━━━━━━━━━\u001b[0m\u001b[37m\u001b[0m \u001b[1m1s\u001b[0m 499us/step - accuracy: 0.6737 - loss: 0.5887\n",
      "Epoch 30/200\n",
      "\u001b[1m1067/1067\u001b[0m \u001b[32m━━━━━━━━━━━━━━━━━━━━\u001b[0m\u001b[37m\u001b[0m \u001b[1m0s\u001b[0m 427us/step - accuracy: 0.6742 - loss: 0.5886\n",
      "Epoch 31/200\n",
      "\u001b[1m1067/1067\u001b[0m \u001b[32m━━━━━━━━━━━━━━━━━━━━\u001b[0m\u001b[37m\u001b[0m \u001b[1m1s\u001b[0m 521us/step - accuracy: 0.6774 - loss: 0.5867\n",
      "Epoch 32/200\n",
      "\u001b[1m1067/1067\u001b[0m \u001b[32m━━━━━━━━━━━━━━━━━━━━\u001b[0m\u001b[37m\u001b[0m \u001b[1m1s\u001b[0m 471us/step - accuracy: 0.6790 - loss: 0.5881\n",
      "Epoch 33/200\n",
      "\u001b[1m1067/1067\u001b[0m \u001b[32m━━━━━━━━━━━━━━━━━━━━\u001b[0m\u001b[37m\u001b[0m \u001b[1m0s\u001b[0m 424us/step - accuracy: 0.6716 - loss: 0.5877\n",
      "Epoch 34/200\n",
      "\u001b[1m1067/1067\u001b[0m \u001b[32m━━━━━━━━━━━━━━━━━━━━\u001b[0m\u001b[37m\u001b[0m \u001b[1m0s\u001b[0m 452us/step - accuracy: 0.6757 - loss: 0.5858\n",
      "Epoch 35/200\n",
      "\u001b[1m1067/1067\u001b[0m \u001b[32m━━━━━━━━━━━━━━━━━━━━\u001b[0m\u001b[37m\u001b[0m \u001b[1m1s\u001b[0m 464us/step - accuracy: 0.6839 - loss: 0.5841\n",
      "Epoch 36/200\n",
      "\u001b[1m1067/1067\u001b[0m \u001b[32m━━━━━━━━━━━━━━━━━━━━\u001b[0m\u001b[37m\u001b[0m \u001b[1m1s\u001b[0m 546us/step - accuracy: 0.6728 - loss: 0.5882\n",
      "Epoch 37/200\n",
      "\u001b[1m1067/1067\u001b[0m \u001b[32m━━━━━━━━━━━━━━━━━━━━\u001b[0m\u001b[37m\u001b[0m \u001b[1m0s\u001b[0m 453us/step - accuracy: 0.6734 - loss: 0.5877\n",
      "Epoch 38/200\n",
      "\u001b[1m1067/1067\u001b[0m \u001b[32m━━━━━━━━━━━━━━━━━━━━\u001b[0m\u001b[37m\u001b[0m \u001b[1m1s\u001b[0m 465us/step - accuracy: 0.6755 - loss: 0.5861\n",
      "Epoch 39/200\n",
      "\u001b[1m1067/1067\u001b[0m \u001b[32m━━━━━━━━━━━━━━━━━━━━\u001b[0m\u001b[37m\u001b[0m \u001b[1m0s\u001b[0m 440us/step - accuracy: 0.6725 - loss: 0.5845\n",
      "Epoch 40/200\n",
      "\u001b[1m1067/1067\u001b[0m \u001b[32m━━━━━━━━━━━━━━━━━━━━\u001b[0m\u001b[37m\u001b[0m \u001b[1m0s\u001b[0m 433us/step - accuracy: 0.6790 - loss: 0.5897\n",
      "Epoch 41/200\n",
      "\u001b[1m1067/1067\u001b[0m \u001b[32m━━━━━━━━━━━━━━━━━━━━\u001b[0m\u001b[37m\u001b[0m \u001b[1m0s\u001b[0m 458us/step - accuracy: 0.6818 - loss: 0.5786\n",
      "Epoch 42/200\n",
      "\u001b[1m1067/1067\u001b[0m \u001b[32m━━━━━━━━━━━━━━━━━━━━\u001b[0m\u001b[37m\u001b[0m \u001b[1m1s\u001b[0m 490us/step - accuracy: 0.6682 - loss: 0.5883\n",
      "Epoch 43/200\n",
      "\u001b[1m1067/1067\u001b[0m \u001b[32m━━━━━━━━━━━━━━━━━━━━\u001b[0m\u001b[37m\u001b[0m \u001b[1m0s\u001b[0m 442us/step - accuracy: 0.6722 - loss: 0.5889\n",
      "Epoch 44/200\n",
      "\u001b[1m1067/1067\u001b[0m \u001b[32m━━━━━━━━━━━━━━━━━━━━\u001b[0m\u001b[37m\u001b[0m \u001b[1m0s\u001b[0m 444us/step - accuracy: 0.6727 - loss: 0.5835\n",
      "Epoch 45/200\n",
      "\u001b[1m1067/1067\u001b[0m \u001b[32m━━━━━━━━━━━━━━━━━━━━\u001b[0m\u001b[37m\u001b[0m \u001b[1m1s\u001b[0m 487us/step - accuracy: 0.6759 - loss: 0.5829\n",
      "Epoch 46/200\n",
      "\u001b[1m1067/1067\u001b[0m \u001b[32m━━━━━━━━━━━━━━━━━━━━\u001b[0m\u001b[37m\u001b[0m \u001b[1m1s\u001b[0m 578us/step - accuracy: 0.6762 - loss: 0.5891\n",
      "Epoch 47/200\n",
      "\u001b[1m1067/1067\u001b[0m \u001b[32m━━━━━━━━━━━━━━━━━━━━\u001b[0m\u001b[37m\u001b[0m \u001b[1m0s\u001b[0m 431us/step - accuracy: 0.6766 - loss: 0.5914\n",
      "Epoch 48/200\n",
      "\u001b[1m1067/1067\u001b[0m \u001b[32m━━━━━━━━━━━━━━━━━━━━\u001b[0m\u001b[37m\u001b[0m \u001b[1m1s\u001b[0m 542us/step - accuracy: 0.6761 - loss: 0.5888\n",
      "Epoch 49/200\n",
      "\u001b[1m1067/1067\u001b[0m \u001b[32m━━━━━━━━━━━━━━━━━━━━\u001b[0m\u001b[37m\u001b[0m \u001b[1m1s\u001b[0m 568us/step - accuracy: 0.6749 - loss: 0.5837\n",
      "Epoch 50/200\n",
      "\u001b[1m1067/1067\u001b[0m \u001b[32m━━━━━━━━━━━━━━━━━━━━\u001b[0m\u001b[37m\u001b[0m \u001b[1m1s\u001b[0m 467us/step - accuracy: 0.6671 - loss: 0.5890\n",
      "Epoch 51/200\n",
      "\u001b[1m1067/1067\u001b[0m \u001b[32m━━━━━━━━━━━━━━━━━━━━\u001b[0m\u001b[37m\u001b[0m \u001b[1m0s\u001b[0m 421us/step - accuracy: 0.6819 - loss: 0.5811\n",
      "Epoch 52/200\n",
      "\u001b[1m1067/1067\u001b[0m \u001b[32m━━━━━━━━━━━━━━━━━━━━\u001b[0m\u001b[37m\u001b[0m \u001b[1m0s\u001b[0m 416us/step - accuracy: 0.6767 - loss: 0.5830\n",
      "Epoch 53/200\n",
      "\u001b[1m1067/1067\u001b[0m \u001b[32m━━━━━━━━━━━━━━━━━━━━\u001b[0m\u001b[37m\u001b[0m \u001b[1m0s\u001b[0m 420us/step - accuracy: 0.6776 - loss: 0.5817\n",
      "Epoch 54/200\n",
      "\u001b[1m1067/1067\u001b[0m \u001b[32m━━━━━━━━━━━━━━━━━━━━\u001b[0m\u001b[37m\u001b[0m \u001b[1m0s\u001b[0m 452us/step - accuracy: 0.6652 - loss: 0.5929\n",
      "Epoch 55/200\n",
      "\u001b[1m1067/1067\u001b[0m \u001b[32m━━━━━━━━━━━━━━━━━━━━\u001b[0m\u001b[37m\u001b[0m \u001b[1m0s\u001b[0m 418us/step - accuracy: 0.6725 - loss: 0.5921\n",
      "Epoch 56/200\n",
      "\u001b[1m1067/1067\u001b[0m \u001b[32m━━━━━━━━━━━━━━━━━━━━\u001b[0m\u001b[37m\u001b[0m \u001b[1m0s\u001b[0m 431us/step - accuracy: 0.6756 - loss: 0.5831\n",
      "Epoch 57/200\n",
      "\u001b[1m1067/1067\u001b[0m \u001b[32m━━━━━━━━━━━━━━━━━━━━\u001b[0m\u001b[37m\u001b[0m \u001b[1m0s\u001b[0m 426us/step - accuracy: 0.6712 - loss: 0.5861\n",
      "Epoch 58/200\n",
      "\u001b[1m1067/1067\u001b[0m \u001b[32m━━━━━━━━━━━━━━━━━━━━\u001b[0m\u001b[37m\u001b[0m \u001b[1m1s\u001b[0m 461us/step - accuracy: 0.6751 - loss: 0.5875\n",
      "Epoch 59/200\n",
      "\u001b[1m1067/1067\u001b[0m \u001b[32m━━━━━━━━━━━━━━━━━━━━\u001b[0m\u001b[37m\u001b[0m \u001b[1m0s\u001b[0m 420us/step - accuracy: 0.6727 - loss: 0.5905\n",
      "Epoch 60/200\n",
      "\u001b[1m1067/1067\u001b[0m \u001b[32m━━━━━━━━━━━━━━━━━━━━\u001b[0m\u001b[37m\u001b[0m \u001b[1m0s\u001b[0m 420us/step - accuracy: 0.6707 - loss: 0.5931\n",
      "Epoch 61/200\n",
      "\u001b[1m1067/1067\u001b[0m \u001b[32m━━━━━━━━━━━━━━━━━━━━\u001b[0m\u001b[37m\u001b[0m \u001b[1m0s\u001b[0m 438us/step - accuracy: 0.6821 - loss: 0.5793\n",
      "Epoch 62/200\n",
      "\u001b[1m1067/1067\u001b[0m \u001b[32m━━━━━━━━━━━━━━━━━━━━\u001b[0m\u001b[37m\u001b[0m \u001b[1m0s\u001b[0m 446us/step - accuracy: 0.6740 - loss: 0.5896\n",
      "Epoch 63/200\n",
      "\u001b[1m1067/1067\u001b[0m \u001b[32m━━━━━━━━━━━━━━━━━━━━\u001b[0m\u001b[37m\u001b[0m \u001b[1m0s\u001b[0m 421us/step - accuracy: 0.6687 - loss: 0.5837\n",
      "Epoch 64/200\n",
      "\u001b[1m1067/1067\u001b[0m \u001b[32m━━━━━━━━━━━━━━━━━━━━\u001b[0m\u001b[37m\u001b[0m \u001b[1m0s\u001b[0m 425us/step - accuracy: 0.6856 - loss: 0.5765\n",
      "Epoch 65/200\n",
      "\u001b[1m1067/1067\u001b[0m \u001b[32m━━━━━━━━━━━━━━━━━━━━\u001b[0m\u001b[37m\u001b[0m \u001b[1m0s\u001b[0m 449us/step - accuracy: 0.6698 - loss: 0.5906\n",
      "Epoch 66/200\n",
      "\u001b[1m1067/1067\u001b[0m \u001b[32m━━━━━━━━━━━━━━━━━━━━\u001b[0m\u001b[37m\u001b[0m \u001b[1m0s\u001b[0m 419us/step - accuracy: 0.6746 - loss: 0.5898\n",
      "Epoch 67/200\n",
      "\u001b[1m1067/1067\u001b[0m \u001b[32m━━━━━━━━━━━━━━━━━━━━\u001b[0m\u001b[37m\u001b[0m \u001b[1m0s\u001b[0m 428us/step - accuracy: 0.6730 - loss: 0.5797\n",
      "Epoch 68/200\n",
      "\u001b[1m1067/1067\u001b[0m \u001b[32m━━━━━━━━━━━━━━━━━━━━\u001b[0m\u001b[37m\u001b[0m \u001b[1m0s\u001b[0m 428us/step - accuracy: 0.6785 - loss: 0.5875\n",
      "Epoch 69/200\n",
      "\u001b[1m1067/1067\u001b[0m \u001b[32m━━━━━━━━━━━━━━━━━━━━\u001b[0m\u001b[37m\u001b[0m \u001b[1m1s\u001b[0m 460us/step - accuracy: 0.6782 - loss: 0.5854\n",
      "Epoch 70/200\n",
      "\u001b[1m1067/1067\u001b[0m \u001b[32m━━━━━━━━━━━━━━━━━━━━\u001b[0m\u001b[37m\u001b[0m \u001b[1m0s\u001b[0m 417us/step - accuracy: 0.6757 - loss: 0.5875\n",
      "Epoch 71/200\n",
      "\u001b[1m1067/1067\u001b[0m \u001b[32m━━━━━━━━━━━━━━━━━━━━\u001b[0m\u001b[37m\u001b[0m \u001b[1m0s\u001b[0m 427us/step - accuracy: 0.6812 - loss: 0.5875\n",
      "Epoch 72/200\n",
      "\u001b[1m1067/1067\u001b[0m \u001b[32m━━━━━━━━━━━━━━━━━━━━\u001b[0m\u001b[37m\u001b[0m \u001b[1m0s\u001b[0m 450us/step - accuracy: 0.6698 - loss: 0.5864\n",
      "Epoch 73/200\n",
      "\u001b[1m1067/1067\u001b[0m \u001b[32m━━━━━━━━━━━━━━━━━━━━\u001b[0m\u001b[37m\u001b[0m \u001b[1m0s\u001b[0m 427us/step - accuracy: 0.6762 - loss: 0.5855\n",
      "Epoch 74/200\n",
      "\u001b[1m1067/1067\u001b[0m \u001b[32m━━━━━━━━━━━━━━━━━━━━\u001b[0m\u001b[37m\u001b[0m \u001b[1m0s\u001b[0m 419us/step - accuracy: 0.6753 - loss: 0.5901\n",
      "Epoch 75/200\n",
      "\u001b[1m1067/1067\u001b[0m \u001b[32m━━━━━━━━━━━━━━━━━━━━\u001b[0m\u001b[37m\u001b[0m \u001b[1m0s\u001b[0m 445us/step - accuracy: 0.6725 - loss: 0.5981\n",
      "Epoch 76/200\n",
      "\u001b[1m1067/1067\u001b[0m \u001b[32m━━━━━━━━━━━━━━━━━━━━\u001b[0m\u001b[37m\u001b[0m \u001b[1m0s\u001b[0m 425us/step - accuracy: 0.6814 - loss: 0.5796\n",
      "Epoch 77/200\n",
      "\u001b[1m1067/1067\u001b[0m \u001b[32m━━━━━━━━━━━━━━━━━━━━\u001b[0m\u001b[37m\u001b[0m \u001b[1m0s\u001b[0m 425us/step - accuracy: 0.6685 - loss: 0.5980\n",
      "Epoch 78/200\n",
      "\u001b[1m1067/1067\u001b[0m \u001b[32m━━━━━━━━━━━━━━━━━━━━\u001b[0m\u001b[37m\u001b[0m \u001b[1m0s\u001b[0m 455us/step - accuracy: 0.6785 - loss: 0.5813\n",
      "Epoch 79/200\n",
      "\u001b[1m1067/1067\u001b[0m \u001b[32m━━━━━━━━━━━━━━━━━━━━\u001b[0m\u001b[37m\u001b[0m \u001b[1m0s\u001b[0m 422us/step - accuracy: 0.6775 - loss: 0.5865\n",
      "Epoch 80/200\n",
      "\u001b[1m1067/1067\u001b[0m \u001b[32m━━━━━━━━━━━━━━━━━━━━\u001b[0m\u001b[37m\u001b[0m \u001b[1m0s\u001b[0m 418us/step - accuracy: 0.6801 - loss: 0.5809\n",
      "Epoch 81/200\n",
      "\u001b[1m1067/1067\u001b[0m \u001b[32m━━━━━━━━━━━━━━━━━━━━\u001b[0m\u001b[37m\u001b[0m \u001b[1m1s\u001b[0m 494us/step - accuracy: 0.6756 - loss: 0.5834\n",
      "Epoch 82/200\n",
      "\u001b[1m1067/1067\u001b[0m \u001b[32m━━━━━━━━━━━━━━━━━━━━\u001b[0m\u001b[37m\u001b[0m \u001b[1m1s\u001b[0m 550us/step - accuracy: 0.6669 - loss: 0.5931\n",
      "Epoch 83/200\n",
      "\u001b[1m1067/1067\u001b[0m \u001b[32m━━━━━━━━━━━━━━━━━━━━\u001b[0m\u001b[37m\u001b[0m \u001b[1m1s\u001b[0m 551us/step - accuracy: 0.6711 - loss: 0.5837\n",
      "Epoch 84/200\n",
      "\u001b[1m1067/1067\u001b[0m \u001b[32m━━━━━━━━━━━━━━━━━━━━\u001b[0m\u001b[37m\u001b[0m \u001b[1m0s\u001b[0m 436us/step - accuracy: 0.6807 - loss: 0.5865\n",
      "Epoch 85/200\n",
      "\u001b[1m1067/1067\u001b[0m \u001b[32m━━━━━━━━━━━━━━━━━━━━\u001b[0m\u001b[37m\u001b[0m \u001b[1m0s\u001b[0m 431us/step - accuracy: 0.6719 - loss: 0.5858\n",
      "Epoch 86/200\n",
      "\u001b[1m1067/1067\u001b[0m \u001b[32m━━━━━━━━━━━━━━━━━━━━\u001b[0m\u001b[37m\u001b[0m \u001b[1m1s\u001b[0m 482us/step - accuracy: 0.6689 - loss: 0.5905\n",
      "Epoch 87/200\n",
      "\u001b[1m1067/1067\u001b[0m \u001b[32m━━━━━━━━━━━━━━━━━━━━\u001b[0m\u001b[37m\u001b[0m \u001b[1m0s\u001b[0m 422us/step - accuracy: 0.6611 - loss: 0.5947\n",
      "Epoch 88/200\n",
      "\u001b[1m1067/1067\u001b[0m \u001b[32m━━━━━━━━━━━━━━━━━━━━\u001b[0m\u001b[37m\u001b[0m \u001b[1m1s\u001b[0m 466us/step - accuracy: 0.6754 - loss: 0.5842\n",
      "Epoch 89/200\n",
      "\u001b[1m1067/1067\u001b[0m \u001b[32m━━━━━━━━━━━━━━━━━━━━\u001b[0m\u001b[37m\u001b[0m \u001b[1m0s\u001b[0m 423us/step - accuracy: 0.6670 - loss: 0.5942\n",
      "Epoch 90/200\n",
      "\u001b[1m1067/1067\u001b[0m \u001b[32m━━━━━━━━━━━━━━━━━━━━\u001b[0m\u001b[37m\u001b[0m \u001b[1m0s\u001b[0m 438us/step - accuracy: 0.6745 - loss: 0.5782\n",
      "Epoch 91/200\n",
      "\u001b[1m1067/1067\u001b[0m \u001b[32m━━━━━━━━━━━━━━━━━━━━\u001b[0m\u001b[37m\u001b[0m \u001b[1m1s\u001b[0m 467us/step - accuracy: 0.6700 - loss: 0.5900\n",
      "Epoch 92/200\n",
      "\u001b[1m1067/1067\u001b[0m \u001b[32m━━━━━━━━━━━━━━━━━━━━\u001b[0m\u001b[37m\u001b[0m \u001b[1m0s\u001b[0m 438us/step - accuracy: 0.6827 - loss: 0.5838\n",
      "Epoch 93/200\n",
      "\u001b[1m1067/1067\u001b[0m \u001b[32m━━━━━━━━━━━━━━━━━━━━\u001b[0m\u001b[37m\u001b[0m \u001b[1m1s\u001b[0m 479us/step - accuracy: 0.6709 - loss: 0.5941\n",
      "Epoch 94/200\n",
      "\u001b[1m1067/1067\u001b[0m \u001b[32m━━━━━━━━━━━━━━━━━━━━\u001b[0m\u001b[37m\u001b[0m \u001b[1m0s\u001b[0m 431us/step - accuracy: 0.6759 - loss: 0.5838\n",
      "Epoch 95/200\n",
      "\u001b[1m1067/1067\u001b[0m \u001b[32m━━━━━━━━━━━━━━━━━━━━\u001b[0m\u001b[37m\u001b[0m \u001b[1m0s\u001b[0m 443us/step - accuracy: 0.6792 - loss: 0.5759\n",
      "Epoch 96/200\n",
      "\u001b[1m1067/1067\u001b[0m \u001b[32m━━━━━━━━━━━━━━━━━━━━\u001b[0m\u001b[37m\u001b[0m \u001b[1m0s\u001b[0m 457us/step - accuracy: 0.6865 - loss: 0.5842\n",
      "Epoch 97/200\n",
      "\u001b[1m1067/1067\u001b[0m \u001b[32m━━━━━━━━━━━━━━━━━━━━\u001b[0m\u001b[37m\u001b[0m \u001b[1m0s\u001b[0m 433us/step - accuracy: 0.6776 - loss: 0.5860\n",
      "Epoch 98/200\n",
      "\u001b[1m1067/1067\u001b[0m \u001b[32m━━━━━━━━━━━━━━━━━━━━\u001b[0m\u001b[37m\u001b[0m \u001b[1m0s\u001b[0m 458us/step - accuracy: 0.6735 - loss: 0.5834\n",
      "Epoch 99/200\n",
      "\u001b[1m1067/1067\u001b[0m \u001b[32m━━━━━━━━━━━━━━━━━━━━\u001b[0m\u001b[37m\u001b[0m \u001b[1m0s\u001b[0m 440us/step - accuracy: 0.6829 - loss: 0.5842\n",
      "Epoch 100/200\n",
      "\u001b[1m1067/1067\u001b[0m \u001b[32m━━━━━━━━━━━━━━━━━━━━\u001b[0m\u001b[37m\u001b[0m \u001b[1m1s\u001b[0m 468us/step - accuracy: 0.6763 - loss: 0.5865\n",
      "Epoch 101/200\n",
      "\u001b[1m1067/1067\u001b[0m \u001b[32m━━━━━━━━━━━━━━━━━━━━\u001b[0m\u001b[37m\u001b[0m \u001b[1m0s\u001b[0m 435us/step - accuracy: 0.6850 - loss: 0.5779\n",
      "Epoch 102/200\n",
      "\u001b[1m1067/1067\u001b[0m \u001b[32m━━━━━━━━━━━━━━━━━━━━\u001b[0m\u001b[37m\u001b[0m \u001b[1m0s\u001b[0m 452us/step - accuracy: 0.6775 - loss: 0.5868\n",
      "Epoch 103/200\n",
      "\u001b[1m1067/1067\u001b[0m \u001b[32m━━━━━━━━━━━━━━━━━━━━\u001b[0m\u001b[37m\u001b[0m \u001b[1m0s\u001b[0m 438us/step - accuracy: 0.6749 - loss: 0.5860\n",
      "Epoch 104/200\n",
      "\u001b[1m1067/1067\u001b[0m \u001b[32m━━━━━━━━━━━━━━━━━━━━\u001b[0m\u001b[37m\u001b[0m \u001b[1m1s\u001b[0m 465us/step - accuracy: 0.6684 - loss: 0.5853\n",
      "Epoch 105/200\n",
      "\u001b[1m1067/1067\u001b[0m \u001b[32m━━━━━━━━━━━━━━━━━━━━\u001b[0m\u001b[37m\u001b[0m \u001b[1m0s\u001b[0m 451us/step - accuracy: 0.6724 - loss: 0.5840\n",
      "Epoch 106/200\n",
      "\u001b[1m1067/1067\u001b[0m \u001b[32m━━━━━━━━━━━━━━━━━━━━\u001b[0m\u001b[37m\u001b[0m \u001b[1m0s\u001b[0m 442us/step - accuracy: 0.6702 - loss: 0.5851\n",
      "Epoch 107/200\n",
      "\u001b[1m1067/1067\u001b[0m \u001b[32m━━━━━━━━━━━━━━━━━━━━\u001b[0m\u001b[37m\u001b[0m \u001b[1m0s\u001b[0m 420us/step - accuracy: 0.6763 - loss: 0.5878\n",
      "Epoch 108/200\n",
      "\u001b[1m1067/1067\u001b[0m \u001b[32m━━━━━━━━━━━━━━━━━━━━\u001b[0m\u001b[37m\u001b[0m \u001b[1m0s\u001b[0m 443us/step - accuracy: 0.6694 - loss: 0.5872\n",
      "Epoch 109/200\n",
      "\u001b[1m1067/1067\u001b[0m \u001b[32m━━━━━━━━━━━━━━━━━━━━\u001b[0m\u001b[37m\u001b[0m \u001b[1m0s\u001b[0m 420us/step - accuracy: 0.6872 - loss: 0.5825\n",
      "Epoch 110/200\n",
      "\u001b[1m1067/1067\u001b[0m \u001b[32m━━━━━━━━━━━━━━━━━━━━\u001b[0m\u001b[37m\u001b[0m \u001b[1m0s\u001b[0m 421us/step - accuracy: 0.6796 - loss: 0.5847\n",
      "Epoch 111/200\n",
      "\u001b[1m1067/1067\u001b[0m \u001b[32m━━━━━━━━━━━━━━━━━━━━\u001b[0m\u001b[37m\u001b[0m \u001b[1m1s\u001b[0m 650us/step - accuracy: 0.6819 - loss: 0.5832\n",
      "Epoch 112/200\n",
      "\u001b[1m1067/1067\u001b[0m \u001b[32m━━━━━━━━━━━━━━━━━━━━\u001b[0m\u001b[37m\u001b[0m \u001b[1m1s\u001b[0m 583us/step - accuracy: 0.6708 - loss: 0.5873\n",
      "Epoch 113/200\n",
      "\u001b[1m1067/1067\u001b[0m \u001b[32m━━━━━━━━━━━━━━━━━━━━\u001b[0m\u001b[37m\u001b[0m \u001b[1m1s\u001b[0m 465us/step - accuracy: 0.6781 - loss: 0.5831\n",
      "Epoch 114/200\n",
      "\u001b[1m1067/1067\u001b[0m \u001b[32m━━━━━━━━━━━━━━━━━━━━\u001b[0m\u001b[37m\u001b[0m \u001b[1m0s\u001b[0m 435us/step - accuracy: 0.6639 - loss: 0.5938\n",
      "Epoch 115/200\n",
      "\u001b[1m1067/1067\u001b[0m \u001b[32m━━━━━━━━━━━━━━━━━━━━\u001b[0m\u001b[37m\u001b[0m \u001b[1m1s\u001b[0m 575us/step - accuracy: 0.6823 - loss: 0.5798\n",
      "Epoch 116/200\n",
      "\u001b[1m1067/1067\u001b[0m \u001b[32m━━━━━━━━━━━━━━━━━━━━\u001b[0m\u001b[37m\u001b[0m \u001b[1m1s\u001b[0m 577us/step - accuracy: 0.6868 - loss: 0.5736\n",
      "Epoch 117/200\n",
      "\u001b[1m1067/1067\u001b[0m \u001b[32m━━━━━━━━━━━━━━━━━━━━\u001b[0m\u001b[37m\u001b[0m \u001b[1m1s\u001b[0m 553us/step - accuracy: 0.6717 - loss: 0.5875\n",
      "Epoch 118/200\n",
      "\u001b[1m1067/1067\u001b[0m \u001b[32m━━━━━━━━━━━━━━━━━━━━\u001b[0m\u001b[37m\u001b[0m \u001b[1m1s\u001b[0m 537us/step - accuracy: 0.6713 - loss: 0.5792\n",
      "Epoch 119/200\n",
      "\u001b[1m1067/1067\u001b[0m \u001b[32m━━━━━━━━━━━━━━━━━━━━\u001b[0m\u001b[37m\u001b[0m \u001b[1m1s\u001b[0m 467us/step - accuracy: 0.6578 - loss: 0.5953\n",
      "Epoch 120/200\n",
      "\u001b[1m1067/1067\u001b[0m \u001b[32m━━━━━━━━━━━━━━━━━━━━\u001b[0m\u001b[37m\u001b[0m \u001b[1m0s\u001b[0m 436us/step - accuracy: 0.6860 - loss: 0.5691\n",
      "Epoch 121/200\n",
      "\u001b[1m1067/1067\u001b[0m \u001b[32m━━━━━━━━━━━━━━━━━━━━\u001b[0m\u001b[37m\u001b[0m \u001b[1m1s\u001b[0m 478us/step - accuracy: 0.6580 - loss: 0.5959\n",
      "Epoch 122/200\n",
      "\u001b[1m1067/1067\u001b[0m \u001b[32m━━━━━━━━━━━━━━━━━━━━\u001b[0m\u001b[37m\u001b[0m \u001b[1m0s\u001b[0m 434us/step - accuracy: 0.6789 - loss: 0.5766\n",
      "Epoch 123/200\n",
      "\u001b[1m1067/1067\u001b[0m \u001b[32m━━━━━━━━━━━━━━━━━━━━\u001b[0m\u001b[37m\u001b[0m \u001b[1m1s\u001b[0m 467us/step - accuracy: 0.6754 - loss: 0.5904\n",
      "Epoch 124/200\n",
      "\u001b[1m1067/1067\u001b[0m \u001b[32m━━━━━━━━━━━━━━━━━━━━\u001b[0m\u001b[37m\u001b[0m \u001b[1m0s\u001b[0m 435us/step - accuracy: 0.6777 - loss: 0.5824\n",
      "Epoch 125/200\n",
      "\u001b[1m1067/1067\u001b[0m \u001b[32m━━━━━━━━━━━━━━━━━━━━\u001b[0m\u001b[37m\u001b[0m \u001b[1m1s\u001b[0m 469us/step - accuracy: 0.6729 - loss: 0.5905\n",
      "Epoch 126/200\n",
      "\u001b[1m1067/1067\u001b[0m \u001b[32m━━━━━━━━━━━━━━━━━━━━\u001b[0m\u001b[37m\u001b[0m \u001b[1m1s\u001b[0m 467us/step - accuracy: 0.6755 - loss: 0.5846\n",
      "Epoch 127/200\n",
      "\u001b[1m1067/1067\u001b[0m \u001b[32m━━━━━━━━━━━━━━━━━━━━\u001b[0m\u001b[37m\u001b[0m \u001b[1m1s\u001b[0m 484us/step - accuracy: 0.6724 - loss: 0.5798\n",
      "Epoch 128/200\n",
      "\u001b[1m1067/1067\u001b[0m \u001b[32m━━━━━━━━━━━━━━━━━━━━\u001b[0m\u001b[37m\u001b[0m \u001b[1m0s\u001b[0m 447us/step - accuracy: 0.6785 - loss: 0.5791\n",
      "Epoch 129/200\n",
      "\u001b[1m1067/1067\u001b[0m \u001b[32m━━━━━━━━━━━━━━━━━━━━\u001b[0m\u001b[37m\u001b[0m \u001b[1m1s\u001b[0m 506us/step - accuracy: 0.6689 - loss: 0.5841\n",
      "Epoch 130/200\n",
      "\u001b[1m1067/1067\u001b[0m \u001b[32m━━━━━━━━━━━━━━━━━━━━\u001b[0m\u001b[37m\u001b[0m \u001b[1m0s\u001b[0m 438us/step - accuracy: 0.6844 - loss: 0.5852\n",
      "Epoch 131/200\n",
      "\u001b[1m1067/1067\u001b[0m \u001b[32m━━━━━━━━━━━━━━━━━━━━\u001b[0m\u001b[37m\u001b[0m \u001b[1m1s\u001b[0m 467us/step - accuracy: 0.6755 - loss: 0.5817\n",
      "Epoch 132/200\n",
      "\u001b[1m1067/1067\u001b[0m \u001b[32m━━━━━━━━━━━━━━━━━━━━\u001b[0m\u001b[37m\u001b[0m \u001b[1m0s\u001b[0m 435us/step - accuracy: 0.6761 - loss: 0.5879\n",
      "Epoch 133/200\n",
      "\u001b[1m1067/1067\u001b[0m \u001b[32m━━━━━━━━━━━━━━━━━━━━\u001b[0m\u001b[37m\u001b[0m \u001b[1m1s\u001b[0m 467us/step - accuracy: 0.6774 - loss: 0.5846\n",
      "Epoch 134/200\n",
      "\u001b[1m1067/1067\u001b[0m \u001b[32m━━━━━━━━━━━━━━━━━━━━\u001b[0m\u001b[37m\u001b[0m \u001b[1m1s\u001b[0m 499us/step - accuracy: 0.6786 - loss: 0.5788\n",
      "Epoch 135/200\n",
      "\u001b[1m1067/1067\u001b[0m \u001b[32m━━━━━━━━━━━━━━━━━━━━\u001b[0m\u001b[37m\u001b[0m \u001b[1m1s\u001b[0m 540us/step - accuracy: 0.6758 - loss: 0.5862\n",
      "Epoch 136/200\n",
      "\u001b[1m1067/1067\u001b[0m \u001b[32m━━━━━━━━━━━━━━━━━━━━\u001b[0m\u001b[37m\u001b[0m \u001b[1m1s\u001b[0m 484us/step - accuracy: 0.6736 - loss: 0.5821\n",
      "Epoch 137/200\n",
      "\u001b[1m1067/1067\u001b[0m \u001b[32m━━━━━━━━━━━━━━━━━━━━\u001b[0m\u001b[37m\u001b[0m \u001b[1m1s\u001b[0m 504us/step - accuracy: 0.6690 - loss: 0.5844\n",
      "Epoch 138/200\n",
      "\u001b[1m1067/1067\u001b[0m \u001b[32m━━━━━━━━━━━━━━━━━━━━\u001b[0m\u001b[37m\u001b[0m \u001b[1m1s\u001b[0m 514us/step - accuracy: 0.6762 - loss: 0.5872\n",
      "Epoch 139/200\n",
      "\u001b[1m1067/1067\u001b[0m \u001b[32m━━━━━━━━━━━━━━━━━━━━\u001b[0m\u001b[37m\u001b[0m \u001b[1m1s\u001b[0m 491us/step - accuracy: 0.6758 - loss: 0.5811\n",
      "Epoch 140/200\n",
      "\u001b[1m1067/1067\u001b[0m \u001b[32m━━━━━━━━━━━━━━━━━━━━\u001b[0m\u001b[37m\u001b[0m \u001b[1m1s\u001b[0m 540us/step - accuracy: 0.6655 - loss: 0.5930\n",
      "Epoch 141/200\n",
      "\u001b[1m1067/1067\u001b[0m \u001b[32m━━━━━━━━━━━━━━━━━━━━\u001b[0m\u001b[37m\u001b[0m \u001b[1m1s\u001b[0m 490us/step - accuracy: 0.6822 - loss: 0.5787\n",
      "Epoch 142/200\n",
      "\u001b[1m1067/1067\u001b[0m \u001b[32m━━━━━━━━━━━━━━━━━━━━\u001b[0m\u001b[37m\u001b[0m \u001b[1m1s\u001b[0m 587us/step - accuracy: 0.6801 - loss: 0.5797\n",
      "Epoch 143/200\n",
      "\u001b[1m1067/1067\u001b[0m \u001b[32m━━━━━━━━━━━━━━━━━━━━\u001b[0m\u001b[37m\u001b[0m \u001b[1m0s\u001b[0m 431us/step - accuracy: 0.6732 - loss: 0.5805\n",
      "Epoch 144/200\n",
      "\u001b[1m1067/1067\u001b[0m \u001b[32m━━━━━━━━━━━━━━━━━━━━\u001b[0m\u001b[37m\u001b[0m \u001b[1m1s\u001b[0m 469us/step - accuracy: 0.6751 - loss: 0.5849\n",
      "Epoch 145/200\n",
      "\u001b[1m1067/1067\u001b[0m \u001b[32m━━━━━━━━━━━━━━━━━━━━\u001b[0m\u001b[37m\u001b[0m \u001b[1m1s\u001b[0m 503us/step - accuracy: 0.6666 - loss: 0.5885\n",
      "Epoch 146/200\n",
      "\u001b[1m1067/1067\u001b[0m \u001b[32m━━━━━━━━━━━━━━━━━━━━\u001b[0m\u001b[37m\u001b[0m \u001b[1m1s\u001b[0m 771us/step - accuracy: 0.6698 - loss: 0.5880\n",
      "Epoch 147/200\n",
      "\u001b[1m1067/1067\u001b[0m \u001b[32m━━━━━━━━━━━━━━━━━━━━\u001b[0m\u001b[37m\u001b[0m \u001b[1m1s\u001b[0m 467us/step - accuracy: 0.6672 - loss: 0.5901\n",
      "Epoch 148/200\n",
      "\u001b[1m1067/1067\u001b[0m \u001b[32m━━━━━━━━━━━━━━━━━━━━\u001b[0m\u001b[37m\u001b[0m \u001b[1m0s\u001b[0m 450us/step - accuracy: 0.6728 - loss: 0.5850\n",
      "Epoch 149/200\n",
      "\u001b[1m1067/1067\u001b[0m \u001b[32m━━━━━━━━━━━━━━━━━━━━\u001b[0m\u001b[37m\u001b[0m \u001b[1m1s\u001b[0m 597us/step - accuracy: 0.6790 - loss: 0.5801\n",
      "Epoch 150/200\n",
      "\u001b[1m1067/1067\u001b[0m \u001b[32m━━━━━━━━━━━━━━━━━━━━\u001b[0m\u001b[37m\u001b[0m \u001b[1m0s\u001b[0m 450us/step - accuracy: 0.6781 - loss: 0.5801\n",
      "Epoch 151/200\n",
      "\u001b[1m1067/1067\u001b[0m \u001b[32m━━━━━━━━━━━━━━━━━━━━\u001b[0m\u001b[37m\u001b[0m \u001b[1m0s\u001b[0m 446us/step - accuracy: 0.6657 - loss: 0.5958\n",
      "Epoch 152/200\n",
      "\u001b[1m1067/1067\u001b[0m \u001b[32m━━━━━━━━━━━━━━━━━━━━\u001b[0m\u001b[37m\u001b[0m \u001b[1m1s\u001b[0m 459us/step - accuracy: 0.6725 - loss: 0.5842\n",
      "Epoch 153/200\n",
      "\u001b[1m1067/1067\u001b[0m \u001b[32m━━━━━━━━━━━━━━━━━━━━\u001b[0m\u001b[37m\u001b[0m \u001b[1m1s\u001b[0m 486us/step - accuracy: 0.6777 - loss: 0.5819\n",
      "Epoch 154/200\n",
      "\u001b[1m1067/1067\u001b[0m \u001b[32m━━━━━━━━━━━━━━━━━━━━\u001b[0m\u001b[37m\u001b[0m \u001b[1m1s\u001b[0m 536us/step - accuracy: 0.6662 - loss: 0.5906\n",
      "Epoch 155/200\n",
      "\u001b[1m1067/1067\u001b[0m \u001b[32m━━━━━━━━━━━━━━━━━━━━\u001b[0m\u001b[37m\u001b[0m \u001b[1m0s\u001b[0m 435us/step - accuracy: 0.6834 - loss: 0.5801\n",
      "Epoch 156/200\n",
      "\u001b[1m1067/1067\u001b[0m \u001b[32m━━━━━━━━━━━━━━━━━━━━\u001b[0m\u001b[37m\u001b[0m \u001b[1m0s\u001b[0m 451us/step - accuracy: 0.6642 - loss: 0.5879\n",
      "Epoch 157/200\n",
      "\u001b[1m1067/1067\u001b[0m \u001b[32m━━━━━━━━━━━━━━━━━━━━\u001b[0m\u001b[37m\u001b[0m \u001b[1m0s\u001b[0m 423us/step - accuracy: 0.6726 - loss: 0.5890\n",
      "Epoch 158/200\n",
      "\u001b[1m1067/1067\u001b[0m \u001b[32m━━━━━━━━━━━━━━━━━━━━\u001b[0m\u001b[37m\u001b[0m \u001b[1m0s\u001b[0m 453us/step - accuracy: 0.6711 - loss: 0.5845\n",
      "Epoch 159/200\n",
      "\u001b[1m1067/1067\u001b[0m \u001b[32m━━━━━━━━━━━━━━━━━━━━\u001b[0m\u001b[37m\u001b[0m \u001b[1m1s\u001b[0m 541us/step - accuracy: 0.6774 - loss: 0.5836\n",
      "Epoch 160/200\n",
      "\u001b[1m1067/1067\u001b[0m \u001b[32m━━━━━━━━━━━━━━━━━━━━\u001b[0m\u001b[37m\u001b[0m \u001b[1m0s\u001b[0m 444us/step - accuracy: 0.6730 - loss: 0.5801\n",
      "Epoch 161/200\n",
      "\u001b[1m1067/1067\u001b[0m \u001b[32m━━━━━━━━━━━━━━━━━━━━\u001b[0m\u001b[37m\u001b[0m \u001b[1m0s\u001b[0m 434us/step - accuracy: 0.6814 - loss: 0.5768\n",
      "Epoch 162/200\n",
      "\u001b[1m1067/1067\u001b[0m \u001b[32m━━━━━━━━━━━━━━━━━━━━\u001b[0m\u001b[37m\u001b[0m \u001b[1m1s\u001b[0m 463us/step - accuracy: 0.6815 - loss: 0.5825\n",
      "Epoch 163/200\n",
      "\u001b[1m1067/1067\u001b[0m \u001b[32m━━━━━━━━━━━━━━━━━━━━\u001b[0m\u001b[37m\u001b[0m \u001b[1m1s\u001b[0m 512us/step - accuracy: 0.6758 - loss: 0.5832\n",
      "Epoch 164/200\n",
      "\u001b[1m1067/1067\u001b[0m \u001b[32m━━━━━━━━━━━━━━━━━━━━\u001b[0m\u001b[37m\u001b[0m \u001b[1m1s\u001b[0m 490us/step - accuracy: 0.6809 - loss: 0.5782\n",
      "Epoch 165/200\n",
      "\u001b[1m1067/1067\u001b[0m \u001b[32m━━━━━━━━━━━━━━━━━━━━\u001b[0m\u001b[37m\u001b[0m \u001b[1m1s\u001b[0m 509us/step - accuracy: 0.6777 - loss: 0.5785\n",
      "Epoch 166/200\n",
      "\u001b[1m1067/1067\u001b[0m \u001b[32m━━━━━━━━━━━━━━━━━━━━\u001b[0m\u001b[37m\u001b[0m \u001b[1m0s\u001b[0m 434us/step - accuracy: 0.6680 - loss: 0.5890\n",
      "Epoch 167/200\n",
      "\u001b[1m1067/1067\u001b[0m \u001b[32m━━━━━━━━━━━━━━━━━━━━\u001b[0m\u001b[37m\u001b[0m \u001b[1m0s\u001b[0m 451us/step - accuracy: 0.6689 - loss: 0.5889\n",
      "Epoch 168/200\n",
      "\u001b[1m1067/1067\u001b[0m \u001b[32m━━━━━━━━━━━━━━━━━━━━\u001b[0m\u001b[37m\u001b[0m \u001b[1m1s\u001b[0m 893us/step - accuracy: 0.6678 - loss: 0.5856\n",
      "Epoch 169/200\n",
      "\u001b[1m1067/1067\u001b[0m \u001b[32m━━━━━━━━━━━━━━━━━━━━\u001b[0m\u001b[37m\u001b[0m \u001b[1m1s\u001b[0m 457us/step - accuracy: 0.6698 - loss: 0.5816\n",
      "Epoch 170/200\n",
      "\u001b[1m1067/1067\u001b[0m \u001b[32m━━━━━━━━━━━━━━━━━━━━\u001b[0m\u001b[37m\u001b[0m \u001b[1m1s\u001b[0m 583us/step - accuracy: 0.6639 - loss: 0.5931\n",
      "Epoch 171/200\n",
      "\u001b[1m1067/1067\u001b[0m \u001b[32m━━━━━━━━━━━━━━━━━━━━\u001b[0m\u001b[37m\u001b[0m \u001b[1m1s\u001b[0m 463us/step - accuracy: 0.6745 - loss: 0.5854\n",
      "Epoch 172/200\n",
      "\u001b[1m1067/1067\u001b[0m \u001b[32m━━━━━━━━━━━━━━━━━━━━\u001b[0m\u001b[37m\u001b[0m \u001b[1m1s\u001b[0m 631us/step - accuracy: 0.6825 - loss: 0.5763\n",
      "Epoch 173/200\n",
      "\u001b[1m1067/1067\u001b[0m \u001b[32m━━━━━━━━━━━━━━━━━━━━\u001b[0m\u001b[37m\u001b[0m \u001b[1m1s\u001b[0m 523us/step - accuracy: 0.6641 - loss: 0.5890\n",
      "Epoch 174/200\n",
      "\u001b[1m1067/1067\u001b[0m \u001b[32m━━━━━━━━━━━━━━━━━━━━\u001b[0m\u001b[37m\u001b[0m \u001b[1m0s\u001b[0m 440us/step - accuracy: 0.6651 - loss: 0.5898\n",
      "Epoch 175/200\n",
      "\u001b[1m1067/1067\u001b[0m \u001b[32m━━━━━━━━━━━━━━━━━━━━\u001b[0m\u001b[37m\u001b[0m \u001b[1m1s\u001b[0m 475us/step - accuracy: 0.6642 - loss: 0.5864\n",
      "Epoch 176/200\n",
      "\u001b[1m1067/1067\u001b[0m \u001b[32m━━━━━━━━━━━━━━━━━━━━\u001b[0m\u001b[37m\u001b[0m \u001b[1m0s\u001b[0m 456us/step - accuracy: 0.6704 - loss: 0.5811\n",
      "Epoch 177/200\n",
      "\u001b[1m1067/1067\u001b[0m \u001b[32m━━━━━━━━━━━━━━━━━━━━\u001b[0m\u001b[37m\u001b[0m \u001b[1m1s\u001b[0m 539us/step - accuracy: 0.6663 - loss: 0.5892\n",
      "Epoch 178/200\n",
      "\u001b[1m1067/1067\u001b[0m \u001b[32m━━━━━━━━━━━━━━━━━━━━\u001b[0m\u001b[37m\u001b[0m \u001b[1m1s\u001b[0m 518us/step - accuracy: 0.6761 - loss: 0.5839\n",
      "Epoch 179/200\n",
      "\u001b[1m1067/1067\u001b[0m \u001b[32m━━━━━━━━━━━━━━━━━━━━\u001b[0m\u001b[37m\u001b[0m \u001b[1m0s\u001b[0m 449us/step - accuracy: 0.6780 - loss: 0.5830\n",
      "Epoch 180/200\n",
      "\u001b[1m1067/1067\u001b[0m \u001b[32m━━━━━━━━━━━━━━━━━━━━\u001b[0m\u001b[37m\u001b[0m \u001b[1m0s\u001b[0m 440us/step - accuracy: 0.6812 - loss: 0.5821\n",
      "Epoch 181/200\n",
      "\u001b[1m1067/1067\u001b[0m \u001b[32m━━━━━━━━━━━━━━━━━━━━\u001b[0m\u001b[37m\u001b[0m \u001b[1m1s\u001b[0m 580us/step - accuracy: 0.6715 - loss: 0.5871\n",
      "Epoch 182/200\n",
      "\u001b[1m1067/1067\u001b[0m \u001b[32m━━━━━━━━━━━━━━━━━━━━\u001b[0m\u001b[37m\u001b[0m \u001b[1m0s\u001b[0m 453us/step - accuracy: 0.6827 - loss: 0.5785\n",
      "Epoch 183/200\n",
      "\u001b[1m1067/1067\u001b[0m \u001b[32m━━━━━━━━━━━━━━━━━━━━\u001b[0m\u001b[37m\u001b[0m \u001b[1m1s\u001b[0m 577us/step - accuracy: 0.6707 - loss: 0.5857\n",
      "Epoch 184/200\n",
      "\u001b[1m1067/1067\u001b[0m \u001b[32m━━━━━━━━━━━━━━━━━━━━\u001b[0m\u001b[37m\u001b[0m \u001b[1m0s\u001b[0m 454us/step - accuracy: 0.6759 - loss: 0.5838\n",
      "Epoch 185/200\n",
      "\u001b[1m1067/1067\u001b[0m \u001b[32m━━━━━━━━━━━━━━━━━━━━\u001b[0m\u001b[37m\u001b[0m \u001b[1m0s\u001b[0m 450us/step - accuracy: 0.6687 - loss: 0.5881\n",
      "Epoch 186/200\n",
      "\u001b[1m1067/1067\u001b[0m \u001b[32m━━━━━━━━━━━━━━━━━━━━\u001b[0m\u001b[37m\u001b[0m \u001b[1m1s\u001b[0m 517us/step - accuracy: 0.6712 - loss: 0.5809\n",
      "Epoch 187/200\n",
      "\u001b[1m1067/1067\u001b[0m \u001b[32m━━━━━━━━━━━━━━━━━━━━\u001b[0m\u001b[37m\u001b[0m \u001b[1m0s\u001b[0m 442us/step - accuracy: 0.6759 - loss: 0.5848\n",
      "Epoch 188/200\n",
      "\u001b[1m1067/1067\u001b[0m \u001b[32m━━━━━━━━━━━━━━━━━━━━\u001b[0m\u001b[37m\u001b[0m \u001b[1m0s\u001b[0m 441us/step - accuracy: 0.6755 - loss: 0.5850\n",
      "Epoch 189/200\n",
      "\u001b[1m1067/1067\u001b[0m \u001b[32m━━━━━━━━━━━━━━━━━━━━\u001b[0m\u001b[37m\u001b[0m \u001b[1m1s\u001b[0m 514us/step - accuracy: 0.6668 - loss: 0.5903\n",
      "Epoch 190/200\n",
      "\u001b[1m1067/1067\u001b[0m \u001b[32m━━━━━━━━━━━━━━━━━━━━\u001b[0m\u001b[37m\u001b[0m \u001b[1m0s\u001b[0m 430us/step - accuracy: 0.6740 - loss: 0.5876\n",
      "Epoch 191/200\n",
      "\u001b[1m1067/1067\u001b[0m \u001b[32m━━━━━━━━━━━━━━━━━━━━\u001b[0m\u001b[37m\u001b[0m \u001b[1m0s\u001b[0m 440us/step - accuracy: 0.6742 - loss: 0.5855\n",
      "Epoch 192/200\n",
      "\u001b[1m1067/1067\u001b[0m \u001b[32m━━━━━━━━━━━━━━━━━━━━\u001b[0m\u001b[37m\u001b[0m \u001b[1m1s\u001b[0m 512us/step - accuracy: 0.6727 - loss: 0.5914\n",
      "Epoch 193/200\n",
      "\u001b[1m1067/1067\u001b[0m \u001b[32m━━━━━━━━━━━━━━━━━━━━\u001b[0m\u001b[37m\u001b[0m \u001b[1m0s\u001b[0m 437us/step - accuracy: 0.6681 - loss: 0.5870\n",
      "Epoch 194/200\n",
      "\u001b[1m1067/1067\u001b[0m \u001b[32m━━━━━━━━━━━━━━━━━━━━\u001b[0m\u001b[37m\u001b[0m \u001b[1m1s\u001b[0m 460us/step - accuracy: 0.6712 - loss: 0.5879\n",
      "Epoch 195/200\n",
      "\u001b[1m1067/1067\u001b[0m \u001b[32m━━━━━━━━━━━━━━━━━━━━\u001b[0m\u001b[37m\u001b[0m \u001b[1m1s\u001b[0m 532us/step - accuracy: 0.6724 - loss: 0.5914\n",
      "Epoch 196/200\n",
      "\u001b[1m1067/1067\u001b[0m \u001b[32m━━━━━━━━━━━━━━━━━━━━\u001b[0m\u001b[37m\u001b[0m \u001b[1m0s\u001b[0m 453us/step - accuracy: 0.6723 - loss: 0.5859\n",
      "Epoch 197/200\n",
      "\u001b[1m1067/1067\u001b[0m \u001b[32m━━━━━━━━━━━━━━━━━━━━\u001b[0m\u001b[37m\u001b[0m \u001b[1m0s\u001b[0m 438us/step - accuracy: 0.6789 - loss: 0.5830\n",
      "Epoch 198/200\n",
      "\u001b[1m1067/1067\u001b[0m \u001b[32m━━━━━━━━━━━━━━━━━━━━\u001b[0m\u001b[37m\u001b[0m \u001b[1m1s\u001b[0m 520us/step - accuracy: 0.6654 - loss: 0.5876\n",
      "Epoch 199/200\n",
      "\u001b[1m1067/1067\u001b[0m \u001b[32m━━━━━━━━━━━━━━━━━━━━\u001b[0m\u001b[37m\u001b[0m \u001b[1m0s\u001b[0m 440us/step - accuracy: 0.6760 - loss: 0.5832\n",
      "Epoch 200/200\n",
      "\u001b[1m1067/1067\u001b[0m \u001b[32m━━━━━━━━━━━━━━━━━━━━\u001b[0m\u001b[37m\u001b[0m \u001b[1m1s\u001b[0m 520us/step - accuracy: 0.6765 - loss: 0.5872\n"
     ]
    },
    {
     "data": {
      "text/plain": [
       "<keras.src.callbacks.history.History at 0x17bd77fe0>"
      ]
     },
     "execution_count": 134,
     "metadata": {},
     "output_type": "execute_result"
    }
   ],
   "source": [
    "ann.fit(low_level_train_scaled, classification_train, batch_size=6, epochs=200)"
   ]
  },
  {
   "cell_type": "code",
   "execution_count": 136,
   "id": "1da71800-9e55-4bf4-8457-3460162dc91c",
   "metadata": {},
   "outputs": [
    {
     "name": "stdout",
     "output_type": "stream",
     "text": [
      "\u001b[1m51/51\u001b[0m \u001b[32m━━━━━━━━━━━━━━━━━━━━\u001b[0m\u001b[37m\u001b[0m \u001b[1m0s\u001b[0m 443us/step\n",
      "Confusion matrix for the low level is: \n",
      "[[332 439]\n",
      " [206 624]]\n",
      "Accuracy score is: 0.5971267957526546\n"
     ]
    }
   ],
   "source": [
    "# Predicting the test set results\n",
    "classification_pred=ann.predict(low_level_test_scaled)\n",
    "classification_pred=(classification_pred>0.5)\n",
    "\n",
    "# Making the confusion matrix\n",
    "conf_matr = confusion_matrix(classification_test, classification_pred)\n",
    "print(f'Confusion matrix for the low level is: \\n{conf_matr}')\n",
    "accuracy_score(classification_test, classification_pred)\n",
    "print(f'Accuracy score is: {accuracy_score(classification_test, classification_pred)}')"
   ]
  },
  {
   "cell_type": "code",
   "execution_count": 138,
   "id": "aa42951c-ab85-41ce-b220-37bd76e8ac60",
   "metadata": {},
   "outputs": [
    {
     "name": "stdout",
     "output_type": "stream",
     "text": [
      "\u001b[1m51/51\u001b[0m \u001b[32m━━━━━━━━━━━━━━━━━━━━\u001b[0m\u001b[37m\u001b[0m \u001b[1m0s\u001b[0m 732us/step - accuracy: 0.6055 - loss: 0.7030\n",
      "Test loss: 0.7425959706306458\n",
      "Test accuracy: 0.5971267819404602\n"
     ]
    }
   ],
   "source": [
    "# Evaluate the model on test data\n",
    "loss, accuracy = ann.evaluate(low_level_test_scaled, classification_test)\n",
    "print(f'Test loss: {loss}')\n",
    "print(f'Test accuracy: {accuracy}')"
   ]
  },
  {
   "cell_type": "code",
   "execution_count": 140,
   "id": "40110bd8-19c0-4a46-bda6-2e92aecf602e",
   "metadata": {},
   "outputs": [],
   "source": [
    " y_true = pd.factorize(classification_test)[0]"
   ]
  },
  {
   "cell_type": "code",
   "execution_count": 144,
   "id": "0d091f12-dec0-487f-bcf6-7259df37bcdf",
   "metadata": {},
   "outputs": [
    {
     "name": "stdout",
     "output_type": "stream",
     "text": [
      "\u001b[1m51/51\u001b[0m \u001b[32m━━━━━━━━━━━━━━━━━━━━\u001b[0m\u001b[37m\u001b[0m \u001b[1m0s\u001b[0m 429us/step\n"
     ]
    },
    {
     "data": {
      "image/png": "[encoded data removed]",
      "text/plain": [
       "<Figure size 640x480 with 1 Axes>"
      ]
     },
     "metadata": {},
     "output_type": "display_data"
    }
   ],
   "source": [
    "from sklearn.metrics import roc_curve, roc_auc_score\n",
    "import matplotlib.pyplot as plt\n",
    "\n",
    "\n",
    "y_pred_prob_ann = ann.predict(low_level_test_scaled)  # shape: (n_samples, 1)\n",
    "fpr, tpr, thresholds = roc_curve(y_true, y_pred_prob_ann)\n",
    "auc_score = roc_auc_score(y_true, y_pred_prob_ann)\n",
    "\n",
    "plt.plot([0, 1], [0, 1], 'k--', label='Random')\n",
    "plt.plot(fpr, tpr, label=f'ANN (AUC = {auc_score:.2f})')\n",
    "plt.scatter(fpr, tpr, s=10)\n",
    "plt.xlabel('False Positive Rate', fontsize=12)\n",
    "plt.ylabel('True Positive Rate', fontsize=12)\n",
    "plt.title('ROC Curve - ANN', fontsize=14)\n",
    "plt.legend(loc='lower right')\n",
    "plt.grid(True)\n",
    "plt.show()\n"
   ]
  },
  {
   "cell_type": "code",
   "execution_count": null,
   "id": "dca3ea2c-2c55-427c-92a3-0208a0e575e7",
   "metadata": {},
   "outputs": [],
   "source": []
  }
 ],
 "metadata": {
  "kernelspec": {
   "display_name": "Python [conda env:base] *",
   "language": "python",
   "name": "conda-base-py"
  },
  "language_info": {
   "codemirror_mode": {
    "name": "ipython",
    "version": 3
   },
   "file_extension": ".py",
   "mimetype": "text/x-python",
   "name": "python",
   "nbconvert_exporter": "python",
   "pygments_lexer": "ipython3",
   "version": "3.12.2"
  }
 },
 "nbformat": 4,
 "nbformat_minor": 5
}
